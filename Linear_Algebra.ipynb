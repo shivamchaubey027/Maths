{
  "nbformat": 4,
  "nbformat_minor": 0,
  "metadata": {
    "colab": {
      "provenance": [],
      "authorship_tag": "ABX9TyMfZf8AyShI0MGxLrICJQsn",
      "include_colab_link": true
    },
    "kernelspec": {
      "name": "python3",
      "display_name": "Python 3"
    },
    "language_info": {
      "name": "python"
    }
  },
  "cells": [
    {
      "cell_type": "markdown",
      "metadata": {
        "id": "view-in-github",
        "colab_type": "text"
      },
      "source": [
        "<a href=\"https://colab.research.google.com/github/shivamchaubey027/Maths/blob/main/Linear_Algebra.ipynb\" target=\"_parent\"><img src=\"https://colab.research.google.com/assets/colab-badge.svg\" alt=\"Open In Colab\"/></a>"
      ]
    },
    {
      "cell_type": "code",
      "execution_count": 1,
      "metadata": {
        "colab": {
          "base_uri": "https://localhost:8080/"
        },
        "id": "ZiIKdRKzj8BJ",
        "outputId": "7d6c7dc0-7db2-4f0b-88a6-0563cdceaadd"
      },
      "outputs": [
        {
          "output_type": "stream",
          "name": "stdout",
          "text": [
            "[-2 -4]\n",
            "[4 1]\n",
            "1.7\n"
          ]
        }
      ],
      "source": [
        "\n",
        "import numpy as np\n",
        "\n",
        "a= np.array([1, -3])\n",
        "b= np.array([4,-2])\n",
        "c= 2*a -b\n",
        "print(c)\n",
        "\n",
        "u= np.array([0,1])\n",
        "v= np.array([2,-1])\n",
        "x= 3*u+ 2*v\n",
        "print(x)\n",
        "\n",
        "w= np.array([0.5,-0.2])\n",
        "y=np.array([3,4])\n",
        "z= np.dot(w,y)+1\n",
        "print(z)"
      ]
    }
  ]
}